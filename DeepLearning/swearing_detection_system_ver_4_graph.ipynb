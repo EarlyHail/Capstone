{
 "cells": [
  {
   "cell_type": "code",
   "execution_count": 1,
   "metadata": {},
   "outputs": [],
   "source": [
    "import pandas as pd\n",
    "import sys\n",
    "import os\n",
    "import re\n",
    "import numpy as np\n",
    "import matplotlib.pyplot as plt\n",
    "import json\n",
    "import seaborn as sns\n",
    "from konlpy.tag import Okt\n",
    "import tensorflow.compat.v1 as tf\n",
    "from tensorflow import keras\n",
    "%matplotlib inline\n",
    "\n",
    "from tensorflow.python.keras.preprocessing.sequence import pad_sequences\n",
    "from tensorflow.python.keras.preprocessing.text import Tokenizer"
   ]
  },
  {
   "cell_type": "code",
   "execution_count": 2,
   "metadata": {},
   "outputs": [],
   "source": [
    "data = pd.read_csv(\"train_data_ver1.csv\")"
   ]
  },
  {
   "cell_type": "code",
   "execution_count": 3,
   "metadata": {},
   "outputs": [],
   "source": [
    "keyword = pd.read_csv(\"keyword.csv\")"
   ]
  },
  {
   "cell_type": "code",
   "execution_count": 4,
   "metadata": {},
   "outputs": [],
   "source": [
    "data['label'] = data['label'].fillna(1)\n"
   ]
  },
  {
   "cell_type": "code",
   "execution_count": 5,
   "metadata": {},
   "outputs": [],
   "source": [
    "data['label'] = data['label'].astype(int)\n",
    "\n",
    "data['data'] = data['data'].fillna(\"1\")\n"
   ]
  },
  {
   "cell_type": "code",
   "execution_count": 6,
   "metadata": {},
   "outputs": [],
   "source": [
    "for key in keyword['keyword']:\n",
    "#    data[\"data\"] = data['data'].apply(lambda x:1 if key in x else 0)\n",
    "    data.loc[(data['data'].str.contains(key)), 'label'] = 0"
   ]
  },
  {
   "cell_type": "markdown",
   "metadata": {},
   "source": [
    "### conv9, pooling9\n",
    "### drop out rate =  0.2\n",
    "###  split 비율 = 0.1 , epoc = 10\n",
    "# train_ acc = 0.93503606, step = 10130, loss = 0.6403086\n",
    "#Experiment elapsed time: 290.422398 seconds\n",
    "# eval_ acc = 0.946027, step = 10130, loss = 0.5208163"
   ]
  },
  {
   "cell_type": "markdown",
   "metadata": {},
   "source": [
    "# 데이터 불러오기"
   ]
  },
  {
   "cell_type": "code",
   "execution_count": 7,
   "metadata": {},
   "outputs": [],
   "source": [
    "DATA_IN_PATH = 'C:\\\\Users\\\\박다원\\\\Documents\\\\test\\\\test\\\\'\n",
    "train_data  = pd.read_csv(DATA_IN_PATH+'train_data_ver1.csv')"
   ]
  },
  {
   "cell_type": "code",
   "execution_count": 8,
   "metadata": {
    "scrolled": true
   },
   "outputs": [
    {
     "data": {
      "text/html": [
       "<div>\n",
       "<style scoped>\n",
       "    .dataframe tbody tr th:only-of-type {\n",
       "        vertical-align: middle;\n",
       "    }\n",
       "\n",
       "    .dataframe tbody tr th {\n",
       "        vertical-align: top;\n",
       "    }\n",
       "\n",
       "    .dataframe thead th {\n",
       "        text-align: right;\n",
       "    }\n",
       "</style>\n",
       "<table border=\"1\" class=\"dataframe\">\n",
       "  <thead>\n",
       "    <tr style=\"text-align: right;\">\n",
       "      <th></th>\n",
       "      <th>id</th>\n",
       "      <th>data</th>\n",
       "      <th>label</th>\n",
       "    </tr>\n",
       "  </thead>\n",
       "  <tbody>\n",
       "    <tr>\n",
       "      <th>0</th>\n",
       "      <td>1</td>\n",
       "      <td>윗분이 말한것도 맞는데 지금 바텀 문제되는게 상대 미드 좀만 커도 8렙찍고 내려와서...</td>\n",
       "      <td>0</td>\n",
       "    </tr>\n",
       "    <tr>\n",
       "      <th>1</th>\n",
       "      <td>2</td>\n",
       "      <td>레벨링차이가 크긴큼 ㅋㅋ 2명이서 먹는 경험치가 너프되서 그런가윗라인이 초반에 솔킬...</td>\n",
       "      <td>0</td>\n",
       "    </tr>\n",
       "    <tr>\n",
       "      <th>2</th>\n",
       "      <td>3</td>\n",
       "      <td>블라인드 된 코멘트입니다. [내용보기]아니 바텀 ㅈ망겜인데 왜 바텀을 상향시키냐고미...</td>\n",
       "      <td>0</td>\n",
       "    </tr>\n",
       "    <tr>\n",
       "      <th>3</th>\n",
       "      <td>4</td>\n",
       "      <td>블라인드 된 코멘트입니다. [내용보기]내가 시즌2부터 다이아 계속달면서 느낀건시즌2...</td>\n",
       "      <td>0</td>\n",
       "    </tr>\n",
       "    <tr>\n",
       "      <th>4</th>\n",
       "      <td>5</td>\n",
       "      <td>라이엇은 상체겜이라는데 라이앳이 병신이였네</td>\n",
       "      <td>0</td>\n",
       "    </tr>\n",
       "  </tbody>\n",
       "</table>\n",
       "</div>"
      ],
      "text/plain": [
       "   id                                               data  label\n",
       "0   1  윗분이 말한것도 맞는데 지금 바텀 문제되는게 상대 미드 좀만 커도 8렙찍고 내려와서...      0\n",
       "1   2  레벨링차이가 크긴큼 ㅋㅋ 2명이서 먹는 경험치가 너프되서 그런가윗라인이 초반에 솔킬...      0\n",
       "2   3  블라인드 된 코멘트입니다. [내용보기]아니 바텀 ㅈ망겜인데 왜 바텀을 상향시키냐고미...      0\n",
       "3   4  블라인드 된 코멘트입니다. [내용보기]내가 시즌2부터 다이아 계속달면서 느낀건시즌2...      0\n",
       "4   5                            라이엇은 상체겜이라는데 라이앳이 병신이였네      0"
      ]
     },
     "execution_count": 8,
     "metadata": {},
     "output_type": "execute_result"
    }
   ],
   "source": [
    "train_data .head()"
   ]
  },
  {
   "cell_type": "code",
   "execution_count": 9,
   "metadata": {},
   "outputs": [
    {
     "data": {
      "text/plain": [
       "(20007, 3)"
      ]
     },
     "execution_count": 9,
     "metadata": {},
     "output_type": "execute_result"
    }
   ],
   "source": [
    "train_data.shape"
   ]
  },
  {
   "cell_type": "code",
   "execution_count": 10,
   "metadata": {},
   "outputs": [
    {
     "data": {
      "text/plain": [
       "id        int64\n",
       "data     object\n",
       "label     int64\n",
       "dtype: object"
      ]
     },
     "execution_count": 10,
     "metadata": {},
     "output_type": "execute_result"
    }
   ],
   "source": [
    "train_data.dtypes"
   ]
  },
  {
   "cell_type": "code",
   "execution_count": 11,
   "metadata": {
    "scrolled": false
   },
   "outputs": [],
   "source": [
    "train_data['label'] = train_data['label'].astype(str).astype(int)"
   ]
  },
  {
   "cell_type": "markdown",
   "metadata": {},
   "source": [
    "# 각 라벨의 분포를 확인\n",
    "\n",
    "### 현재 데이터가 50%씩 골고루 분포됨을 확인"
   ]
  },
  {
   "cell_type": "code",
   "execution_count": 12,
   "metadata": {},
   "outputs": [
    {
     "data": {
      "text/plain": [
       "<matplotlib.axes._subplots.AxesSubplot at 0x1c6bcdad948>"
      ]
     },
     "execution_count": 12,
     "metadata": {},
     "output_type": "execute_result"
    },
    {
     "data": {
      "image/png": "[encoded data removed]",
      "text/plain": [
       "<Figure size 432x216 with 1 Axes>"
      ]
     },
     "metadata": {
      "needs_background": "light"
     },
     "output_type": "display_data"
    }
   ],
   "source": [
    "fig, axe = plt.subplots(ncols=1)\n",
    "fig.set_size_inches(6,3)\n",
    "sns.countplot(train_data ['label'])"
   ]
  },
  {
   "cell_type": "markdown",
   "metadata": {},
   "source": [
    "# 데이터 전처리\n",
    "\n",
    "### 학습 데이터와 검증 데이터를 train_test_spit 함수를 활용해 나눈다."
   ]
  },
  {
   "cell_type": "code",
   "execution_count": 13,
   "metadata": {},
   "outputs": [],
   "source": [
    "#train_data = pd.read_csv(DATA_IN_PATH + 'sds_train_data.csv')\n",
    "\n",
    "\n",
    "# train set, eval set 나누기\n",
    "from sklearn.model_selection import train_test_split\n",
    "train_input, eval_input= train_test_split(train_data, test_size = 0.1, random_state = 1234)"
   ]
  },
  {
   "cell_type": "code",
   "execution_count": 14,
   "metadata": {},
   "outputs": [
    {
     "name": "stdout",
     "output_type": "stream",
     "text": [
      "          id   data  label\n",
      "19671  False  False  False\n",
      "2609   False  False  False\n",
      "4938   False  False  False\n",
      "16451  False  False  False\n",
      "19913  False  False  False\n",
      "...      ...    ...    ...\n",
      "8222   False  False  False\n",
      "9449   False  False  False\n",
      "8471   False  False  False\n",
      "17048  False  False  False\n",
      "1318   False  False  False\n",
      "\n",
      "[18006 rows x 3 columns]\n"
     ]
    }
   ],
   "source": [
    "print(train_input.isnull())"
   ]
  },
  {
   "cell_type": "markdown",
   "metadata": {},
   "source": [
    "### 데이터 분석 과정"
   ]
  },
  {
   "cell_type": "code",
   "execution_count": 15,
   "metadata": {},
   "outputs": [
    {
     "data": {
      "text/plain": [
       "19671     44\n",
       "2609      22\n",
       "4938       6\n",
       "16451     88\n",
       "19913    172\n",
       "Name: data, dtype: int64"
      ]
     },
     "execution_count": 15,
     "metadata": {},
     "output_type": "execute_result"
    }
   ],
   "source": [
    "train_lenght = train_input['data'].astype(str).apply(len)\n",
    "train_lenght.head()"
   ]
  },
  {
   "cell_type": "code",
   "execution_count": 16,
   "metadata": {},
   "outputs": [
    {
     "data": {
      "text/plain": [
       "Text(0, 0.5, 'Number of data')"
      ]
     },
     "execution_count": 16,
     "metadata": {},
     "output_type": "execute_result"
    },
    {
     "data": {
      "image/png": "[encoded data removed]",
      "text/plain": [
       "<Figure size 864x360 with 1 Axes>"
      ]
     },
     "metadata": {
      "needs_background": "light"
     },
     "output_type": "display_data"
    }
   ],
   "source": [
    "#그래프에 대한 이미지 크기 선언\n",
    "plt.figure(figsize=(12,5))\n",
    "plt.hist(train_lenght, bins =200, alpha=0.5, color = 'r', label = 'word')\n",
    "plt.yscale('log', nonposy='clip')\n",
    "plt.title('log_histogram of lenght of data')\n",
    "plt.xlabel('Lenght of data')\n",
    "plt.ylabel('Number of data')"
   ]
  },
  {
   "cell_type": "markdown",
   "metadata": {},
   "source": [
    "**위를 보면 거의 길이가 200 이하인 것을 볼 수 있다.\n",
    "그중에 거의 100개 이하로 되어있다.**"
   ]
  },
  {
   "cell_type": "markdown",
   "metadata": {},
   "source": [
    "**실제 통계값으로 계산하면,,**"
   ]
  },
  {
   "cell_type": "code",
   "execution_count": 17,
   "metadata": {},
   "outputs": [
    {
     "name": "stdout",
     "output_type": "stream",
     "text": [
      "데이타 길이 최댓값 : 1497\n",
      "데이타 길이 최솟값 : 1\n",
      "데이타 길이 평균값 : 70.14023103409974\n",
      "데이타 길이 표준편차 : 62.594274967659956\n",
      "데이타 길이 중간값 : 54.0\n"
     ]
    }
   ],
   "source": [
    "print('데이타 길이 최댓값 : {}'.format(np.max(train_lenght)))\n",
    "print('데이타 길이 최솟값 : {}'.format(np.min(train_lenght)))\n",
    "print('데이타 길이 평균값 : {}'.format(np.mean(train_lenght)))\n",
    "print('데이타 길이 표준편차 : {}'.format(np.std(train_lenght)))\n",
    "print('데이타 길이 중간값 : {}'.format(np.median(train_lenght)))"
   ]
  },
  {
   "cell_type": "markdown",
   "metadata": {},
   "source": [
    "**데이터 길이의 최대값이 1497 이고, 평균적인 길이는 70 이다.**"
   ]
  },
  {
   "cell_type": "markdown",
   "metadata": {},
   "source": [
    "**이번엔 데이터 단어 수를 확인해 보자**"
   ]
  },
  {
   "cell_type": "code",
   "execution_count": 18,
   "metadata": {},
   "outputs": [
    {
     "data": {
      "text/plain": [
       "Text(0, 0.5, 'Number of data')"
      ]
     },
     "execution_count": 18,
     "metadata": {},
     "output_type": "execute_result"
    },
    {
     "data": {
      "image/png": "[encoded data removed]",
      "text/plain": [
       "<Figure size 1080x720 with 1 Axes>"
      ]
     },
     "metadata": {
      "needs_background": "light"
     },
     "output_type": "display_data"
    }
   ],
   "source": [
    "train_word_counts = train_input['data'].astype(str).apply(lambda x:len(x.split(' ')))\n",
    "\n",
    "plt.figure(figsize=(15,10))\n",
    "plt.hist(train_word_counts, bins=50, facecolor='r', label='train')\n",
    "plt.title('log-histogram of word count in data', fontsize= 15)\n",
    "plt.yscale('log', nonposy='clip')\n",
    "plt.legend()\n",
    "plt.xlabel('Number of words', fontsize = 15)\n",
    "plt.ylabel('Number of data', fontsize = 15)"
   ]
  },
  {
   "cell_type": "code",
   "execution_count": 19,
   "metadata": {},
   "outputs": [
    {
     "name": "stdout",
     "output_type": "stream",
     "text": [
      "데이타 단어 개수 최댓값 : 377\n",
      "데이타 단어 개수 최솟값 : 1\n",
      "데이타 단어 개수 평균값 : 12.551205153837609\n",
      "데이타 단어 개수 표준편차 : 13.241970712091677\n",
      "데이타 단어 개수 중간값 : 8.0\n"
     ]
    }
   ],
   "source": [
    "print('데이타 단어 개수 최댓값 : {}'.format(np.max(train_word_counts )))\n",
    "print('데이타 단어 개수 최솟값 : {}'.format(np.min(train_word_counts )))\n",
    "print('데이타 단어 개수 평균값 : {}'.format(np.mean(train_word_counts )))\n",
    "print('데이타 단어 개수 표준편차 : {}'.format(np.std(train_word_counts )))\n",
    "print('데이타 단어 개수 중간값 : {}'.format(np.median(train_word_counts )))"
   ]
  },
  {
   "cell_type": "markdown",
   "metadata": {},
   "source": [
    "**결과를 보면 평균 12~13개의 단어 개수를 가지고 있고 중간값의 경우는 8개의 단어를 가지고 있다.**"
   ]
  },
  {
   "cell_type": "markdown",
   "metadata": {},
   "source": [
    "# okt 객체를 사용해 형태소를 분석한다. so, 어간 추출을 사용해 어간이 추출된 단어로 나눈다"
   ]
  },
  {
   "cell_type": "code",
   "execution_count": 20,
   "metadata": {},
   "outputs": [],
   "source": [
    "okt = Okt()"
   ]
  },
  {
   "cell_type": "markdown",
   "metadata": {},
   "source": [
    "### 한글을 제외한 모든 문자 제거, 형태소 토크나이징, 불용어 제거 순으로 진행되는 함수"
   ]
  },
  {
   "cell_type": "code",
   "execution_count": 21,
   "metadata": {},
   "outputs": [],
   "source": [
    "def preprocessing(review, okt, remove_stopwords, stop_words=[]):\n",
    "    #함수의 인자는\n",
    "    #review : 전처리할 텍스트\n",
    "    #okt : okt객체를 반복적으로 생성하지 않구 미리 만들어 인자로 받음\n",
    "    #remove_stopword : 불용어를 제거할지 여부 선택\n",
    "    \n",
    "    # 정규 표현식을 활용해 한글 문자가 아닌 것들을 모두 제거\n",
    "    #1.한글 및 공백 제외한 문자 모두 제거\n",
    "    review_text = re.sub(\"[^가-힣ㄱ-ㅎㅏ-ㅣ\\\\s]\",\"\",review)\n",
    "    \n",
    "    #2. okt 객체를 활용해 형태소 단위로 나눈다.\n",
    "    word_review = okt.morphs(review_text, stem= True)\n",
    "    \n",
    "    if remove_stopwords:\n",
    "        #불용어 제거 (선택적)\n",
    "        word_review = [token for token in word_review if not token in stop_words]\n",
    "        \n",
    "        \n",
    "    return word_review"
   ]
  },
  {
   "cell_type": "code",
   "execution_count": 22,
   "metadata": {},
   "outputs": [],
   "source": [
    "stop_words= ['은','는','이','가','하','아','것','들','의','있','되','수','보','주','등','한']\n",
    "clean_train_review = []\n",
    "\n",
    "for review in train_input['data']:\n",
    "    #비어 있는 데이터에서 멈추지 않도록 문자열인 경우만 진행\n",
    "    if type(review)==str:\n",
    "        clean_train_review.append(preprocessing(review,okt,True,stop_words))\n",
    "    else :\n",
    "        clean_train_review.append([]) #string이 아니면 비어있는 값 추가"
   ]
  },
  {
   "cell_type": "code",
   "execution_count": 23,
   "metadata": {},
   "outputs": [],
   "source": [
    "clean_test_review=[]\n",
    "\n",
    "for review in eval_input['data']:\n",
    "    #비어 있는 데이터에서 멈추지 않도록 문자열인 경우만 진행\n",
    "    if type(review)==str:\n",
    "        clean_test_review.append(preprocessing(review,okt,True,stop_words))\n",
    "    else :\n",
    "        clean_test_review.append([]) #string이 아니면 비어있는 값 추가"
   ]
  },
  {
   "cell_type": "markdown",
   "metadata": {},
   "source": [
    "### 패딩 처리 남음\n",
    "\n",
    "#### 패딩처리를 할때, 최대 길이를 데이터 분석 과정에서 단어의 평균 개수인 대략 3개로 하였다."
   ]
  },
  {
   "cell_type": "code",
   "execution_count": 24,
   "metadata": {},
   "outputs": [],
   "source": [
    "tokenizer = Tokenizer()\n",
    "# 단어 인덱스를 구축합니다.\n",
    "tokenizer.fit_on_texts(clean_train_review)\n",
    "# 문자열을 정수 인덱스의 리스트로 변환합니다.\n",
    "train_sequences = tokenizer.texts_to_sequences(clean_train_review)\n",
    "test_sequences = tokenizer.texts_to_sequences(clean_test_review)\n",
    "\n",
    "word_vocab = tokenizer.word_index #단어 사전 형태\n",
    "\n",
    "MAX_SEQUENCE_LENGHT = 13\n",
    "\n",
    "#학습 데이터를 벡터화\n",
    "train_inputs = pad_sequences(train_sequences, maxlen = MAX_SEQUENCE_LENGHT, padding='post')\n",
    "#학습 데이터의 라벨\n",
    "train_labels = np.array(train_input['label'])\n",
    "\n",
    "#평가 데이터를 벡터화\n",
    "eval_inputs = pad_sequences(test_sequences, maxlen = MAX_SEQUENCE_LENGHT, padding='post')\n",
    "#평가 데이터의 라벨\n",
    "eval_labels = np.array(eval_input['label'])"
   ]
  },
  {
   "cell_type": "code",
   "execution_count": 25,
   "metadata": {},
   "outputs": [],
   "source": [
    "TRAIN_INPUT_DATA = 'sds_train_input.npy'\n",
    "TRAIN_LABEL_DATA = 'sds_train_label.npy'\n",
    "TEST_INPUT_DATA = 'sds_test_input.npy'\n",
    "TEST_LABEL_DATA = 'sds_test_label.npy'\n",
    "DATA_CONFIGS= 'data_configs.json'\n",
    "\n",
    "data_configs = {}\n",
    "data_configs['vocab'] = word_vocab\n",
    "data_configs['vocab_size']= len(word_vocab)+1\n",
    "import json\n",
    "json = json.dumps(tokenizer.word_index)\n",
    "f3 = open(\"wordIndex.json\", \"w\")\n",
    "f3.write(json)\n",
    "f3.close()\n",
    "import os\n",
    "# 저장하는 디렉터리가 존재하지 않으면 생성\n",
    "if not os.path.exists( DATA_IN_PATH):\n",
    "    os.makedirs( DATA_IN_PATH)\n",
    "    \n",
    "#전처리된 학습 데이터를 넘파이 형태로 저장\n",
    "np.save(open(DATA_IN_PATH + TRAIN_INPUT_DATA, 'wb'),train_inputs)\n",
    "np.save(open(DATA_IN_PATH + TRAIN_LABEL_DATA, 'wb'),train_labels)\n",
    "#전처리된 평가 데이터를 넘파이 형태로 저장\n",
    "np.save(open(DATA_IN_PATH + TEST_INPUT_DATA, 'wb'),eval_inputs)\n",
    "np.save(open(DATA_IN_PATH + TEST_LABEL_DATA, 'wb'),eval_labels)\n",
    "    \n"
   ]
  },
  {
   "cell_type": "code",
   "execution_count": 26,
   "metadata": {},
   "outputs": [
    {
     "name": "stdout",
     "output_type": "stream",
     "text": [
      "20631\n"
     ]
    },
    {
     "data": {
      "text/plain": [
       "(18006, 13)"
      ]
     },
     "execution_count": 26,
     "metadata": {},
     "output_type": "execute_result"
    }
   ],
   "source": [
    "print(len(word_vocab))\n",
    "train_inputs.shape"
   ]
  },
  {
   "cell_type": "code",
   "execution_count": 27,
   "metadata": {},
   "outputs": [
    {
     "data": {
      "text/plain": [
       "(18006,)"
      ]
     },
     "execution_count": 27,
     "metadata": {},
     "output_type": "execute_result"
    }
   ],
   "source": [
    "train_labels.shape"
   ]
  },
  {
   "cell_type": "code",
   "execution_count": 28,
   "metadata": {},
   "outputs": [
    {
     "data": {
      "text/plain": [
       "(2001, 13)"
      ]
     },
     "execution_count": 28,
     "metadata": {},
     "output_type": "execute_result"
    }
   ],
   "source": [
    "eval_inputs.shape"
   ]
  },
  {
   "cell_type": "code",
   "execution_count": 29,
   "metadata": {},
   "outputs": [
    {
     "data": {
      "text/plain": [
       "(2001,)"
      ]
     },
     "execution_count": 29,
     "metadata": {},
     "output_type": "execute_result"
    }
   ],
   "source": [
    "eval_labels.shape"
   ]
  },
  {
   "cell_type": "markdown",
   "metadata": {},
   "source": [
    "# 모델링 과정에서 사용할 수 있도록 저장"
   ]
  },
  {
   "cell_type": "code",
   "execution_count": 30,
   "metadata": {},
   "outputs": [],
   "source": [
    "TRAIN_INPUT_DATA = 'sds_train_input.npy'\n",
    "TRAIN_LABEL_DATA = 'sds_train_label.npy'\n",
    "TEST_INPUT_DATA = 'sds_test_input.npy'\n",
    "TEST_LABEL_DATA = 'sds_test_label.npy'\n",
    "DATA_CONFIGS= 'data_configs.json'\n",
    "\n",
    "data_configs = {}\n",
    "\n",
    "data_configs['vocab'] = word_vocab\n",
    "data_configs['vocab_size']= len(word_vocab)+1\n",
    "\n",
    "import os\n",
    "# 저장하는 디렉터리가 존재하지 않으면 생성\n",
    "if not os.path.exists( DATA_IN_PATH):\n",
    "    os.makedirs( DATA_IN_PATH)\n",
    "    \n",
    "#전처리된 학습 데이터를 넘파이 형태로 저장\n",
    "np.save(open(DATA_IN_PATH + TRAIN_INPUT_DATA, 'wb'),train_inputs)\n",
    "np.save(open(DATA_IN_PATH + TRAIN_LABEL_DATA, 'wb'),train_labels)\n",
    "#전처리된 평가 데이터를 넘파이 형태로 저장\n",
    "np.save(open(DATA_IN_PATH + TEST_INPUT_DATA, 'wb'),eval_inputs)\n",
    "np.save(open(DATA_IN_PATH + TEST_LABEL_DATA, 'wb'),eval_labels)\n",
    "import json\n",
    "json = json.dumps(tokenizer.word_index)\n",
    "f3 = open(\"wordIndex.json\", \"w\")\n",
    "f3.write(json)\n",
    "f3.close()"
   ]
  },
  {
   "cell_type": "markdown",
   "metadata": {},
   "source": [
    "# 모델링"
   ]
  },
  {
   "cell_type": "code",
   "execution_count": 31,
   "metadata": {},
   "outputs": [],
   "source": [
    "input_data = train_inputs\n",
    "label_data = train_labels\n"
   ]
  },
  {
   "cell_type": "code",
   "execution_count": 32,
   "metadata": {},
   "outputs": [],
   "source": [
    "input_data = input_data.transpose()"
   ]
  },
  {
   "cell_type": "code",
   "execution_count": 33,
   "metadata": {},
   "outputs": [
    {
     "data": {
      "text/plain": [
       "(13, 18006)"
      ]
     },
     "execution_count": 33,
     "metadata": {},
     "output_type": "execute_result"
    }
   ],
   "source": [
    "input_data.shape"
   ]
  },
  {
   "cell_type": "code",
   "execution_count": 34,
   "metadata": {},
   "outputs": [],
   "source": [
    "input_data = input_data.transpose()"
   ]
  },
  {
   "cell_type": "code",
   "execution_count": 35,
   "metadata": {},
   "outputs": [],
   "source": [
    "input_train, input_eval, label_train, label_eval = train_test_split(input_data, label_data, test_size = 0.1, random_state = 1234)"
   ]
  },
  {
   "cell_type": "markdown",
   "metadata": {},
   "source": [
    "# 데이터 입력 함수"
   ]
  },
  {
   "cell_type": "code",
   "execution_count": 36,
   "metadata": {},
   "outputs": [],
   "source": [
    "def mapping_fn(X, Y):\n",
    "    input, label = {'x': X}, Y\n",
    "    return input, label\n",
    "\n",
    "def train_input_fn():\n",
    "    dataset = tf.data.Dataset.from_tensor_slices((input_train, label_train))\n",
    "    dataset = dataset.shuffle(buffer_size=len(input_train))\n",
    "    dataset = dataset.batch(BATCH_SIZE)\n",
    "    dataset = dataset.map(mapping_fn)\n",
    "    dataset = dataset.repeat(count=NUM_EPOCHS)\n",
    "    iterator = dataset.make_one_shot_iterator()\n",
    "    \n",
    "    \n",
    "    return iterator.get_next()\n",
    "\n",
    "def eval_input_fn():\n",
    "    dataset1 = tf.data.Dataset.from_tensor_slices((input_eval, label_eval))\n",
    "    dataset1 = dataset1.shuffle(buffer_size=len(input_eval))\n",
    "    dataset1 = dataset1.batch(BATCH_SIZE)\n",
    "    dataset1 = dataset1.map(mapping_fn)\n",
    "    iterator = dataset1.make_one_shot_iterator()\n",
    "   # batched_dataset = dataset.test(flags_obj.data_dir).batch(flags_obj.batch_size)\n",
    "    #return batched_dataset.__iter__()\n",
    "    return iterator.get_next()\n"
   ]
  },
  {
   "cell_type": "markdown",
   "metadata": {},
   "source": [
    "# 모델 함수"
   ]
  },
  {
   "cell_type": "code",
   "execution_count": 37,
   "metadata": {},
   "outputs": [],
   "source": [
    "def model_fn(features, labels, mode, params):\n",
    "    TRAIN = mode == tf.estimator.ModeKeys.TRAIN\n",
    "    EVAL = mode == tf.estimator.ModeKeys.EVAL\n",
    "    PREDICT = mode == tf.estimator.ModeKeys.PREDICT\n",
    "\n",
    "    #embedding layer선언\n",
    "    embedding_layer = tf.keras.layers.Embedding(\n",
    "                    vocab_size+1,\n",
    "                    embedding_size)(features['x'])\n",
    "    #embedding layer에 대한 output에 대해 dropout을 취함\n",
    "    dropout_emb = tf.keras.layers.Dropout(rate = 0.2)(embedding_layer)\n",
    "    # filter = 정추, 출력 공간의 차원 ( 컨볼루션의 출력 필터 수)\n",
    "    conv1 = tf.keras.layers.Conv1D(\n",
    "           filters=32,\n",
    "           kernel_size=3,\n",
    "           padding='same',\n",
    "           activation=tf.nn.relu)(dropout_emb)\n",
    "    pool1 = tf.keras.layers.GlobalMaxPool1D()(conv1)\n",
    "        \n",
    "        \n",
    "    conv2 = tf.keras.layers.Conv1D(\n",
    "           filters=32,\n",
    "           kernel_size=4,\n",
    "           padding='same',\n",
    "           activation=tf.nn.relu)(dropout_emb)\n",
    "    pool2 = tf.keras.layers.GlobalMaxPool1D()(conv2)\n",
    "    \n",
    "    \n",
    "    conv3 = tf.keras.layers.Conv1D(\n",
    "           filters=32,\n",
    "           kernel_size=5,\n",
    "           padding='same',\n",
    "           activation=tf.nn.relu)(dropout_emb)\n",
    "    pool3 = tf.keras.layers.GlobalMaxPool1D()(conv3)\n",
    "    \n",
    "    conv4 = tf.keras.layers.Conv1D(\n",
    "           filters=32,\n",
    "           kernel_size=6,\n",
    "           padding='same',\n",
    "           activation=tf.nn.relu)(dropout_emb)\n",
    "    pool4 = tf.keras.layers.GlobalMaxPool1D()(conv4)\n",
    "    \n",
    "    conv5 = tf.keras.layers.Conv1D(\n",
    "           filters=32,\n",
    "           kernel_size=5,\n",
    "           padding='same',\n",
    "           activation=tf.nn.relu)(dropout_emb)\n",
    "    pool5 = tf.keras.layers.GlobalMaxPool1D()(conv5)\n",
    "    conv6 = tf.keras.layers.Conv1D(\n",
    "           filters=32,\n",
    "           kernel_size=7,\n",
    "           padding='same',\n",
    "           activation=tf.nn.relu)(dropout_emb)\n",
    "    pool6 = tf.keras.layers.GlobalMaxPool1D()(conv6)\n",
    "    conv7 = tf.keras.layers.Conv1D(\n",
    "           filters=32,\n",
    "           kernel_size=4,\n",
    "           padding='same',\n",
    "           activation=tf.nn.relu)(dropout_emb)\n",
    "    pool7 = tf.keras.layers.GlobalMaxPool1D()(conv7)\n",
    "    conv8 = tf.keras.layers.Conv1D(\n",
    "           filters=32,\n",
    "           kernel_size=3,\n",
    "           padding='same',\n",
    "           activation=tf.nn.relu)(dropout_emb)\n",
    "    pool8 = tf.keras.layers.GlobalMaxPool1D()(conv8)\n",
    "    conv9 = tf.keras.layers.Conv1D(\n",
    "           filters=32,\n",
    "           kernel_size=6,\n",
    "           padding='same',\n",
    "           activation=tf.nn.relu)(dropout_emb)\n",
    "    pool9 = tf.keras.layers.GlobalMaxPool1D()(conv9)\n",
    "    \n",
    "    \n",
    "    \n",
    "    concat = keras.layers.concatenate([pool1, pool2, pool3, pool4, pool5, pool6, pool7, pool8, pool9]) #모아주기\n",
    "  \n",
    "   \n",
    "\n",
    "    hidden = tf.keras.layers.Dense(units=250, activation=tf.nn.relu)(concat)   \n",
    "    #u nits = 출력 공간의 양의 정수, 차원.\n",
    "    # activation = 사용할 활성화 기능,\n",
    "\n",
    "    dropout_hidden = tf.keras.layers.Dropout(rate=0.2)(hidden, training = TRAIN)\n",
    "    logits = tf.keras.layers.Dense(units=1)(dropout_hidden)\n",
    "\n",
    "    if labels is not None:\n",
    "        labels = tf.reshape(labels, [-1, 1])\n",
    "        \n",
    "    if TRAIN:\n",
    "        global_step = tf.train.get_global_step()\n",
    "        loss = tf.losses.sigmoid_cross_entropy(labels, logits)\n",
    "        train_op = tf.train.AdamOptimizer(0.001).minimize(loss, global_step)\n",
    "\n",
    "        return tf.estimator.EstimatorSpec(mode=mode, train_op=train_op, loss = loss)\n",
    "    \n",
    "    elif EVAL:\n",
    "        loss = tf.losses.sigmoid_cross_entropy(labels, logits)\n",
    "        pred = tf.nn.sigmoid(logits)\n",
    "        accuracy = tf.metrics.accuracy(labels, tf.round(pred))\n",
    "        return tf.estimator.EstimatorSpec(mode=mode, loss=loss, eval_metric_ops={'acc': accuracy})\n",
    "        \n",
    "    elif PREDICT:\n",
    "        return tf.estimator.EstimatorSpec(\n",
    "            mode=mode,\n",
    "            predictions={\n",
    "                'prob': tf.nn.sigmoid(logits),\n",
    "            }\n",
    "        )"
   ]
  },
  {
   "cell_type": "markdown",
   "metadata": {},
   "source": [
    "### 하이퍼파라미터 정의"
   ]
  },
  {
   "cell_type": "code",
   "execution_count": 38,
   "metadata": {},
   "outputs": [],
   "source": [
    "BATCH_SIZE=16\n",
    "NUM_EPOCHS = 10\n",
    "#ocab_size = preproconfigs['vocab_size']\n",
    "embedding_size = 128\n",
    "vocab_size = len(word_vocab)+1"
   ]
  },
  {
   "cell_type": "markdown",
   "metadata": {},
   "source": [
    " # 모델 학습\n",
    " \n",
    " ### 에스티메이터 객채를 정의한 후 학습 시켜본다."
   ]
  },
  {
   "cell_type": "code",
   "execution_count": 39,
   "metadata": {
    "scrolled": true
   },
   "outputs": [
    {
     "name": "stdout",
     "output_type": "stream",
     "text": [
      "INFO:tensorflow:Using default config.\n",
      "INFO:tensorflow:Using config: {'_model_dir': 'data_out/checkpoint/cnn_model', '_tf_random_seed': None, '_save_summary_steps': 100, '_save_checkpoints_steps': None, '_save_checkpoints_secs': 600, '_session_config': allow_soft_placement: true\n",
      "graph_options {\n",
      "  rewrite_options {\n",
      "    meta_optimizer_iterations: ONE\n",
      "  }\n",
      "}\n",
      ", '_keep_checkpoint_max': 5, '_keep_checkpoint_every_n_hours': 10000, '_log_step_count_steps': 100, '_train_distribute': None, '_device_fn': None, '_protocol': None, '_eval_distribute': None, '_experimental_distribute': None, '_experimental_max_worker_delay_secs': None, '_session_creation_timeout_secs': 7200, '_service': None, '_cluster_spec': ClusterSpec({}), '_task_type': 'worker', '_task_id': 0, '_global_id_in_cluster': 0, '_master': '', '_evaluation_master': '', '_is_chief': True, '_num_ps_replicas': 0, '_num_worker_replicas': 1}\n",
      "WARNING:tensorflow:Estimator's model_fn (<function model_fn at 0x000001C6BDE759D8>) includes params argument, but params are not passed to Estimator.\n"
     ]
    }
   ],
   "source": [
    "est = tf.estimator.Estimator(model_fn, model_dir=\"data_out/checkpoint/cnn_model\")"
   ]
  },
  {
   "cell_type": "code",
   "execution_count": 40,
   "metadata": {
    "scrolled": false
   },
   "outputs": [
    {
     "name": "stdout",
     "output_type": "stream",
     "text": [
      "Experiment started at 10:28:03\n",
      ".......................................\n",
      "WARNING:tensorflow:From C:\\anaconda3\\lib\\site-packages\\tensorflow\\python\\ops\\resource_variable_ops.py:1666: calling BaseResourceVariable.__init__ (from tensorflow.python.ops.resource_variable_ops) with constraint is deprecated and will be removed in a future version.\n",
      "Instructions for updating:\n",
      "If using Keras pass *_constraint arguments to layers.\n",
      "WARNING:tensorflow:From C:\\anaconda3\\lib\\site-packages\\tensorflow\\python\\training\\training_util.py:236: Variable.initialized_value (from tensorflow.python.ops.variables) is deprecated and will be removed in a future version.\n",
      "Instructions for updating:\n",
      "Use Variable.read_value. Variables in 2.X are initialized automatically both in eager and graph (inside tf.defun) contexts.\n",
      "WARNING:tensorflow:From <ipython-input-36-16e2a7c1af69>:11: DatasetV1.make_one_shot_iterator (from tensorflow.python.data.ops.dataset_ops) is deprecated and will be removed in a future version.\n",
      "Instructions for updating:\n",
      "Use `for ... in dataset:` to iterate over a dataset. If using `tf.estimator`, return the `Dataset` object directly from your input function. As a last resort, you can use `tf.compat.v1.data.make_one_shot_iterator(dataset)`.\n",
      "INFO:tensorflow:Calling model_fn.\n",
      "INFO:tensorflow:Done calling model_fn.\n",
      "INFO:tensorflow:Create CheckpointSaverHook.\n",
      "INFO:tensorflow:Graph was finalized.\n",
      "INFO:tensorflow:Running local_init_op.\n",
      "INFO:tensorflow:Done running local_init_op.\n",
      "INFO:tensorflow:Calling checkpoint listeners before saving checkpoint 0...\n",
      "INFO:tensorflow:Saving checkpoints for 0 into data_out/checkpoint/cnn_model\\model.ckpt.\n",
      "INFO:tensorflow:Calling checkpoint listeners after saving checkpoint 0...\n",
      "INFO:tensorflow:loss = 0.68478596, step = 0\n",
      "INFO:tensorflow:global_step/sec: 19.3529\n",
      "INFO:tensorflow:loss = 0.4273451, step = 100 (5.170 sec)\n",
      "INFO:tensorflow:global_step/sec: 22.0902\n",
      "INFO:tensorflow:loss = 0.09587647, step = 200 (4.526 sec)\n",
      "INFO:tensorflow:global_step/sec: 20.6482\n",
      "INFO:tensorflow:loss = 0.20438227, step = 300 (4.843 sec)\n",
      "INFO:tensorflow:global_step/sec: 21.5583\n",
      "INFO:tensorflow:loss = 0.3441517, step = 400 (4.641 sec)\n",
      "INFO:tensorflow:global_step/sec: 21.1223\n",
      "INFO:tensorflow:loss = 0.22551419, step = 500 (4.733 sec)\n",
      "INFO:tensorflow:global_step/sec: 19.5644\n",
      "INFO:tensorflow:loss = 0.15072264, step = 600 (5.110 sec)\n",
      "INFO:tensorflow:global_step/sec: 20.6482\n",
      "INFO:tensorflow:loss = 0.28971297, step = 700 (4.844 sec)\n",
      "INFO:tensorflow:global_step/sec: 19.0297\n",
      "INFO:tensorflow:loss = 0.20098743, step = 800 (5.255 sec)\n",
      "INFO:tensorflow:global_step/sec: 19.7338\n",
      "INFO:tensorflow:loss = 0.10888605, step = 900 (5.066 sec)\n",
      "INFO:tensorflow:global_step/sec: 19.443\n",
      "INFO:tensorflow:loss = 0.02679919, step = 1000 (5.144 sec)\n",
      "INFO:tensorflow:global_step/sec: 19.1533\n",
      "INFO:tensorflow:loss = 0.0026414543, step = 1100 (5.221 sec)\n",
      "INFO:tensorflow:global_step/sec: 20.5256\n",
      "INFO:tensorflow:loss = 0.0077925483, step = 1200 (4.871 sec)\n",
      "INFO:tensorflow:global_step/sec: 21.0912\n",
      "INFO:tensorflow:loss = 0.01138849, step = 1300 (4.741 sec)\n",
      "INFO:tensorflow:global_step/sec: 22.1048\n",
      "INFO:tensorflow:loss = 0.0076134666, step = 1400 (4.524 sec)\n",
      "INFO:tensorflow:global_step/sec: 22.5118\n",
      "INFO:tensorflow:loss = 0.0125641525, step = 1500 (4.447 sec)\n",
      "INFO:tensorflow:global_step/sec: 20.2683\n",
      "INFO:tensorflow:loss = 0.06833364, step = 1600 (4.929 sec)\n",
      "INFO:tensorflow:global_step/sec: 20.9721\n",
      "INFO:tensorflow:loss = 0.19244283, step = 1700 (4.768 sec)\n",
      "INFO:tensorflow:global_step/sec: 21.4384\n",
      "INFO:tensorflow:loss = 0.012496656, step = 1800 (4.665 sec)\n",
      "INFO:tensorflow:global_step/sec: 21.6607\n",
      "INFO:tensorflow:loss = 0.13201576, step = 1900 (4.618 sec)\n",
      "INFO:tensorflow:global_step/sec: 19.3008\n",
      "INFO:tensorflow:loss = 0.10241979, step = 2000 (5.181 sec)\n",
      "INFO:tensorflow:global_step/sec: 19.2415\n",
      "INFO:tensorflow:loss = 0.003298666, step = 2100 (5.198 sec)\n",
      "INFO:tensorflow:global_step/sec: 19.1643\n",
      "INFO:tensorflow:loss = 0.055837125, step = 2200 (5.217 sec)\n",
      "INFO:tensorflow:global_step/sec: 19.4808\n",
      "INFO:tensorflow:loss = 0.008297967, step = 2300 (5.136 sec)\n",
      "INFO:tensorflow:global_step/sec: 16.9571\n",
      "INFO:tensorflow:loss = 0.035852257, step = 2400 (5.895 sec)\n",
      "INFO:tensorflow:global_step/sec: 15.8325\n",
      "INFO:tensorflow:loss = 0.0009006077, step = 2500 (6.314 sec)\n",
      "INFO:tensorflow:global_step/sec: 19.5415\n",
      "INFO:tensorflow:loss = 0.0029473589, step = 2600 (5.117 sec)\n",
      "INFO:tensorflow:global_step/sec: 19.8079\n",
      "INFO:tensorflow:loss = 0.0005132893, step = 2700 (5.048 sec)\n",
      "INFO:tensorflow:global_step/sec: 17.9241\n",
      "INFO:tensorflow:loss = 0.0054236036, step = 2800 (5.580 sec)\n",
      "INFO:tensorflow:global_step/sec: 21.6094\n",
      "INFO:tensorflow:loss = 0.008082795, step = 2900 (4.627 sec)\n",
      "INFO:tensorflow:global_step/sec: 24.0738\n",
      "INFO:tensorflow:loss = 0.0013706414, step = 3000 (4.154 sec)\n",
      "INFO:tensorflow:global_step/sec: 22.0362\n",
      "INFO:tensorflow:loss = 0.00058311864, step = 3100 (4.539 sec)\n",
      "INFO:tensorflow:global_step/sec: 19.761\n",
      "INFO:tensorflow:loss = 0.0011521815, step = 3200 (5.060 sec)\n",
      "INFO:tensorflow:global_step/sec: 21.3699\n",
      "INFO:tensorflow:loss = 0.0002349889, step = 3300 (4.678 sec)\n",
      "INFO:tensorflow:global_step/sec: 16.235\n",
      "INFO:tensorflow:loss = 0.00043478183, step = 3400 (6.161 sec)\n",
      "INFO:tensorflow:global_step/sec: 17.9305\n",
      "INFO:tensorflow:loss = 0.0017950232, step = 3500 (5.577 sec)\n",
      "INFO:tensorflow:global_step/sec: 16.1254\n",
      "INFO:tensorflow:loss = 2.7764736e-05, step = 3600 (6.201 sec)\n",
      "INFO:tensorflow:global_step/sec: 16.846\n",
      "INFO:tensorflow:loss = 3.4236204e-05, step = 3700 (5.936 sec)\n",
      "INFO:tensorflow:global_step/sec: 18.1364\n",
      "INFO:tensorflow:loss = 1.9246616e-05, step = 3800 (5.513 sec)\n",
      "INFO:tensorflow:global_step/sec: 18.9506\n",
      "INFO:tensorflow:loss = 2.499824e-05, step = 3900 (5.278 sec)\n",
      "INFO:tensorflow:global_step/sec: 17.4514\n",
      "INFO:tensorflow:loss = 6.4928063e-06, step = 4000 (5.730 sec)\n",
      "INFO:tensorflow:global_step/sec: 16.9945\n",
      "INFO:tensorflow:loss = 0.9564781, step = 4100 (5.883 sec)\n",
      "INFO:tensorflow:global_step/sec: 19.4242\n",
      "INFO:tensorflow:loss = 0.011969387, step = 4200 (5.148 sec)\n",
      "INFO:tensorflow:global_step/sec: 19.9101\n",
      "INFO:tensorflow:loss = 0.0023024806, step = 4300 (5.023 sec)\n",
      "INFO:tensorflow:global_step/sec: 20.4878\n",
      "INFO:tensorflow:loss = 0.16500172, step = 4400 (4.881 sec)\n",
      "INFO:tensorflow:global_step/sec: 22.4362\n",
      "INFO:tensorflow:loss = 8.072644e-07, step = 4500 (4.457 sec)\n",
      "INFO:tensorflow:global_step/sec: 23.2909\n",
      "INFO:tensorflow:loss = 0.009372537, step = 4600 (4.294 sec)\n",
      "INFO:tensorflow:global_step/sec: 23.9531\n",
      "INFO:tensorflow:loss = 2.0840905e-06, step = 4700 (4.175 sec)\n",
      "INFO:tensorflow:global_step/sec: 24.1783\n",
      "INFO:tensorflow:loss = 5.380193e-06, step = 4800 (4.136 sec)\n",
      "INFO:tensorflow:global_step/sec: 23.9302\n",
      "INFO:tensorflow:loss = 1.4747606e-05, step = 4900 (4.179 sec)\n",
      "INFO:tensorflow:global_step/sec: 18.4383\n",
      "INFO:tensorflow:loss = 0.024837032, step = 5000 (5.423 sec)\n",
      "INFO:tensorflow:global_step/sec: 21.7783\n",
      "INFO:tensorflow:loss = 0.00054602226, step = 5100 (4.592 sec)\n",
      "INFO:tensorflow:global_step/sec: 17.8921\n",
      "INFO:tensorflow:loss = 1.46189905e-05, step = 5200 (5.589 sec)\n",
      "INFO:tensorflow:global_step/sec: 18.1414\n",
      "INFO:tensorflow:loss = 8.080708e-05, step = 5300 (5.513 sec)\n",
      "INFO:tensorflow:global_step/sec: 15.7604\n",
      "INFO:tensorflow:loss = 1.8470463e-06, step = 5400 (6.345 sec)\n",
      "INFO:tensorflow:global_step/sec: 16.9114\n",
      "INFO:tensorflow:loss = 0.00038621912, step = 5500 (5.912 sec)\n",
      "INFO:tensorflow:global_step/sec: 14.9119\n",
      "INFO:tensorflow:loss = 5.3692325e-05, step = 5600 (6.707 sec)\n",
      "INFO:tensorflow:global_step/sec: 17.3054\n",
      "INFO:tensorflow:loss = 4.3016822e-05, step = 5700 (5.781 sec)\n",
      "INFO:tensorflow:global_step/sec: 16.1643\n",
      "INFO:tensorflow:loss = 0.18059911, step = 5800 (6.184 sec)\n",
      "INFO:tensorflow:global_step/sec: 17.2074\n",
      "INFO:tensorflow:loss = 1.6133642e-07, step = 5900 (5.811 sec)\n",
      "INFO:tensorflow:global_step/sec: 15.8425\n",
      "INFO:tensorflow:loss = 0.20526461, step = 6000 (6.313 sec)\n",
      "INFO:tensorflow:global_step/sec: 15.1142\n",
      "INFO:tensorflow:loss = 5.6827528e-05, step = 6100 (6.615 sec)\n",
      "INFO:tensorflow:global_step/sec: 18.0825\n",
      "INFO:tensorflow:loss = 2.8923707e-06, step = 6200 (5.529 sec)\n",
      "INFO:tensorflow:global_step/sec: 19.0045\n",
      "INFO:tensorflow:loss = 0.1345881, step = 6300 (5.262 sec)\n",
      "INFO:tensorflow:global_step/sec: 20.8673\n",
      "INFO:tensorflow:loss = 0.00035967914, step = 6400 (4.793 sec)\n"
     ]
    },
    {
     "name": "stdout",
     "output_type": "stream",
     "text": [
      "INFO:tensorflow:global_step/sec: 20.6737\n",
      "INFO:tensorflow:loss = 2.4497598e-05, step = 6500 (4.837 sec)\n",
      "INFO:tensorflow:global_step/sec: 19.8118\n",
      "INFO:tensorflow:loss = 7.206864e-07, step = 6600 (5.048 sec)\n",
      "INFO:tensorflow:global_step/sec: 20.9065\n",
      "INFO:tensorflow:loss = 5.233322e-06, step = 6700 (4.781 sec)\n",
      "INFO:tensorflow:global_step/sec: 16.2904\n",
      "INFO:tensorflow:loss = 0.00018470781, step = 6800 (6.142 sec)\n",
      "INFO:tensorflow:global_step/sec: 16.309\n",
      "INFO:tensorflow:loss = 0.0029991746, step = 6900 (6.131 sec)\n",
      "INFO:tensorflow:global_step/sec: 13.6437\n",
      "INFO:tensorflow:loss = 0.14773114, step = 7000 (7.331 sec)\n",
      "INFO:tensorflow:global_step/sec: 18.024\n",
      "INFO:tensorflow:loss = 1.5990048e-05, step = 7100 (5.545 sec)\n",
      "INFO:tensorflow:global_step/sec: 18.606\n",
      "INFO:tensorflow:loss = 2.5782824e-06, step = 7200 (5.375 sec)\n",
      "INFO:tensorflow:global_step/sec: 16.5158\n",
      "INFO:tensorflow:loss = 9.1984875e-06, step = 7300 (6.055 sec)\n",
      "INFO:tensorflow:global_step/sec: 17.2251\n",
      "INFO:tensorflow:loss = 4.687578e-06, step = 7400 (5.804 sec)\n",
      "INFO:tensorflow:global_step/sec: 19.1277\n",
      "INFO:tensorflow:loss = 0.00017313646, step = 7500 (5.229 sec)\n",
      "INFO:tensorflow:global_step/sec: 15.28\n",
      "INFO:tensorflow:loss = 3.984498e-07, step = 7600 (6.545 sec)\n",
      "INFO:tensorflow:global_step/sec: 17.4804\n",
      "INFO:tensorflow:loss = 0.00011396869, step = 7700 (5.719 sec)\n",
      "INFO:tensorflow:global_step/sec: 21.8448\n",
      "INFO:tensorflow:loss = 0.000104825536, step = 7800 (4.578 sec)\n",
      "INFO:tensorflow:global_step/sec: 22.9288\n",
      "INFO:tensorflow:loss = 6.5290815e-06, step = 7900 (4.361 sec)\n",
      "INFO:tensorflow:global_step/sec: 22.003\n",
      "INFO:tensorflow:loss = 0.000367692, step = 8000 (4.544 sec)\n",
      "INFO:tensorflow:global_step/sec: 23.5314\n",
      "INFO:tensorflow:loss = 0.0004149649, step = 8100 (4.251 sec)\n",
      "INFO:tensorflow:global_step/sec: 20.5592\n",
      "INFO:tensorflow:loss = 5.1168417e-08, step = 8200 (4.864 sec)\n",
      "INFO:tensorflow:global_step/sec: 19.2452\n",
      "INFO:tensorflow:loss = 9.9046294e-05, step = 8300 (5.197 sec)\n",
      "INFO:tensorflow:global_step/sec: 20.2561\n",
      "INFO:tensorflow:loss = 7.774777e-07, step = 8400 (4.936 sec)\n",
      "INFO:tensorflow:global_step/sec: 19.443\n",
      "INFO:tensorflow:loss = 0.019187288, step = 8500 (5.144 sec)\n",
      "INFO:tensorflow:global_step/sec: 19.0768\n",
      "INFO:tensorflow:loss = 2.9411933e-07, step = 8600 (5.242 sec)\n",
      "INFO:tensorflow:global_step/sec: 17.1779\n",
      "INFO:tensorflow:loss = 3.0892038e-06, step = 8700 (5.820 sec)\n",
      "INFO:tensorflow:global_step/sec: 18.8119\n",
      "INFO:tensorflow:loss = 0.0005175379, step = 8800 (5.317 sec)\n",
      "INFO:tensorflow:global_step/sec: 16.7085\n",
      "INFO:tensorflow:loss = 0.00017040051, step = 8900 (5.985 sec)\n",
      "INFO:tensorflow:global_step/sec: 17.0118\n",
      "INFO:tensorflow:loss = 6.065394e-10, step = 9000 (5.878 sec)\n",
      "INFO:tensorflow:global_step/sec: 17.7496\n",
      "INFO:tensorflow:loss = 7.7161085e-06, step = 9100 (5.634 sec)\n",
      "INFO:tensorflow:global_step/sec: 16.8065\n",
      "INFO:tensorflow:loss = 2.1495507e-06, step = 9200 (5.950 sec)\n",
      "INFO:tensorflow:global_step/sec: 15.3408\n",
      "INFO:tensorflow:loss = 3.681499e-05, step = 9300 (6.520 sec)\n",
      "INFO:tensorflow:global_step/sec: 19.3679\n",
      "INFO:tensorflow:loss = 9.2840446e-07, step = 9400 (5.161 sec)\n",
      "INFO:tensorflow:global_step/sec: 18.5337\n",
      "INFO:tensorflow:loss = 2.4175827e-06, step = 9500 (5.398 sec)\n",
      "INFO:tensorflow:global_step/sec: 15.4543\n",
      "INFO:tensorflow:loss = 1.11621915e-07, step = 9600 (6.470 sec)\n",
      "INFO:tensorflow:global_step/sec: 13.9106\n",
      "INFO:tensorflow:loss = 6.008494e-08, step = 9700 (7.190 sec)\n",
      "INFO:tensorflow:global_step/sec: 16.2693\n",
      "INFO:tensorflow:loss = 0.0002607841, step = 9800 (6.146 sec)\n",
      "INFO:tensorflow:global_step/sec: 19.0659\n",
      "INFO:tensorflow:loss = 0.14396271, step = 9900 (5.244 sec)\n",
      "INFO:tensorflow:global_step/sec: 16.0969\n",
      "INFO:tensorflow:loss = 3.092014e-07, step = 10000 (6.214 sec)\n",
      "INFO:tensorflow:global_step/sec: 21.4018\n",
      "INFO:tensorflow:loss = 1.5747246e-07, step = 10100 (4.671 sec)\n",
      "INFO:tensorflow:Calling checkpoint listeners before saving checkpoint 10130...\n",
      "INFO:tensorflow:Saving checkpoints for 10130 into data_out/checkpoint/cnn_model\\model.ckpt.\n",
      "INFO:tensorflow:Calling checkpoint listeners after saving checkpoint 10130...\n",
      "INFO:tensorflow:Loss for final step: 9.135177e-07.\n",
      ".......................................\n",
      "Experiment finished at 10:37:08\n",
      "\n",
      "Experiment elapsed time: 544.809619 seconds\n"
     ]
    }
   ],
   "source": [
    "from datetime import datetime\n",
    "time_start = datetime.utcnow()\n",
    "print(\"Experiment started at {}\".format(time_start.strftime(\"%H:%M:%S\")))\n",
    "print(\".......................................\") \n",
    "\n",
    "est.train(train_input_fn)\n",
    "\n",
    "\n",
    "time_end = datetime.utcnow()\n",
    "print(\".......................................\")\n",
    "print(\"Experiment finished at {}\".format(time_end.strftime(\"%H:%M:%S\")))\n",
    "print(\"\")\n",
    "time_elapsed = time_end - time_start\n",
    "print(\"Experiment elapsed time: {} seconds\".format(time_elapsed.total_seconds()))\n",
    "\n",
    "\n",
    "\n",
    "\n",
    "\n"
   ]
  },
  {
   "cell_type": "markdown",
   "metadata": {},
   "source": [
    "# 모델 검증"
   ]
  },
  {
   "cell_type": "code",
   "execution_count": 41,
   "metadata": {},
   "outputs": [
    {
     "data": {
      "text/plain": [
       "(18006,)"
      ]
     },
     "execution_count": 41,
     "metadata": {},
     "output_type": "execute_result"
    }
   ],
   "source": [
    "label_data .shape"
   ]
  },
  {
   "cell_type": "code",
   "execution_count": 42,
   "metadata": {},
   "outputs": [
    {
     "name": "stdout",
     "output_type": "stream",
     "text": [
      "INFO:tensorflow:Calling model_fn.\n",
      "INFO:tensorflow:Done calling model_fn.\n",
      "INFO:tensorflow:Starting evaluation at 2020-06-19T19:37:08Z\n",
      "INFO:tensorflow:Graph was finalized.\n",
      "INFO:tensorflow:Restoring parameters from data_out/checkpoint/cnn_model\\model.ckpt-10130\n",
      "INFO:tensorflow:Running local_init_op.\n",
      "INFO:tensorflow:Done running local_init_op.\n",
      "INFO:tensorflow:Inference Time : 0.62938s\n",
      "INFO:tensorflow:Finished evaluation at 2020-06-19-19:37:09\n",
      "INFO:tensorflow:Saving dict for global step 10130: acc = 0.9255969, global_step = 10130, loss = 0.58093894\n",
      "INFO:tensorflow:Saving 'checkpoint_path' summary for global step 10130: data_out/checkpoint/cnn_model\\model.ckpt-10130\n"
     ]
    }
   ],
   "source": [
    "valid = est.evaluate(eval_input_fn)"
   ]
  },
  {
   "cell_type": "markdown",
   "metadata": {},
   "source": [
    "# 모델 평가"
   ]
  },
  {
   "cell_type": "code",
   "execution_count": 43,
   "metadata": {},
   "outputs": [
    {
     "name": "stdout",
     "output_type": "stream",
     "text": [
      "<class 'numpy.ndarray'>\n",
      "<class 'numpy.ndarray'>\n"
     ]
    }
   ],
   "source": [
    "INPUT_TEST_DATA = 'sds_test_input.npy'\n",
    "LABEL_TEST_DATA = 'sds_test_label.npy'\n",
    "\n",
    "test_input_data = np.load(open(DATA_IN_PATH + INPUT_TEST_DATA, 'rb'))\n",
    "print(type(test_input_data))\n",
    "test_label_data = np.load(open(DATA_IN_PATH + LABEL_TEST_DATA, 'rb'))\n",
    "print(type(test_label_data))"
   ]
  },
  {
   "cell_type": "code",
   "execution_count": 44,
   "metadata": {},
   "outputs": [],
   "source": [
    "def test_input_fn():\n",
    "    dataset = tf.data.Dataset.from_tensor_slices((test_input_data, test_label_data))\n",
    "    dataset = dataset.batch(16)\n",
    "    dataset = dataset.map(mapping_fn)\n",
    "    iterator = dataset.make_one_shot_iterator()\n",
    "    \n",
    "    return iterator.get_next()"
   ]
  },
  {
   "cell_type": "code",
   "execution_count": 45,
   "metadata": {
    "scrolled": true
   },
   "outputs": [
    {
     "name": "stdout",
     "output_type": "stream",
     "text": [
      "INFO:tensorflow:Calling model_fn.\n",
      "INFO:tensorflow:Done calling model_fn.\n",
      "INFO:tensorflow:Starting evaluation at 2020-06-19T19:37:10Z\n",
      "INFO:tensorflow:Graph was finalized.\n",
      "INFO:tensorflow:Restoring parameters from data_out/checkpoint/cnn_model\\model.ckpt-10130\n",
      "INFO:tensorflow:Running local_init_op.\n",
      "INFO:tensorflow:Done running local_init_op.\n",
      "INFO:tensorflow:Inference Time : 0.64930s\n",
      "INFO:tensorflow:Finished evaluation at 2020-06-19-19:37:10\n",
      "INFO:tensorflow:Saving dict for global step 10130: acc = 0.93753123, global_step = 10130, loss = 0.47468576\n",
      "INFO:tensorflow:Saving 'checkpoint_path' summary for global step 10130: data_out/checkpoint/cnn_model\\model.ckpt-10130\n"
     ]
    }
   ],
   "source": [
    "predict = est.evaluate(test_input_fn) "
   ]
  },
  {
   "cell_type": "code",
   "execution_count": null,
   "metadata": {},
   "outputs": [],
   "source": []
  },
  {
   "cell_type": "code",
   "execution_count": null,
   "metadata": {},
   "outputs": [],
   "source": []
  }
 ],
 "metadata": {
  "kernelspec": {
   "display_name": "Python 3",
   "language": "python",
   "name": "python3"
  },
  "language_info": {
   "codemirror_mode": {
    "name": "ipython",
    "version": 3
   },
   "file_extension": ".py",
   "mimetype": "text/x-python",
   "name": "python",
   "nbconvert_exporter": "python",
   "pygments_lexer": "ipython3",
   "version": "3.7.7"
  }
 },
 "nbformat": 4,
 "nbformat_minor": 4
}
